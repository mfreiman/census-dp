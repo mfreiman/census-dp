{
 "cells": [
  {
   "cell_type": "markdown",
   "metadata": {},
   "source": [
    "### Privacy preserving logistic regression\n",
    "#### A post-processing example"
   ]
  },
  {
   "cell_type": "markdown",
   "metadata": {
    "collapsed": true
   },
   "source": [
    "In this notebook we give examples of performing regression.\n",
    "\n",
    "Several common formally private noise injection methods depend upon the concept of global sensitivity: how much can a given output change due to adding or deleting a single person across all possible datasets we could observe?\n",
    "\n",
    "Regression poses a problem for these methods. If we consider a simple ordinary least squares model with a single predictor, we can imagine scenarios where adding or deleting a single person can have a marked effect upon the slope of the regression line. In many cases, this effect can be unbounded.\n"
   ]
  },
  {
   "cell_type": "code",
   "execution_count": 1,
   "metadata": {},
   "outputs": [
    {
     "name": "stderr",
     "output_type": "stream",
     "text": [
      "C:\\Anaconda\\lib\\site-packages\\statsmodels\\compat\\pandas.py:56: FutureWarning: The pandas.core.datetools module is deprecated and will be removed in a future version. Please use the pandas.tseries module instead.\n",
      "  from pandas.core import datetools\n"
     ]
    }
   ],
   "source": [
    "import matplotlib.pyplot as plt\n",
    "import pandas as pd\n",
    "import numpy as np\n",
    "import requests, zipfile, io\n",
    "import sklearn\n",
    "import random\n",
    "from typing import Union\n",
    "import statsmodels.api as sm\n",
    "\n",
    "if 'z' not in locals():\n",
    "    r = requests.get('https://www2.census.gov/programs-surveys/acs/data/pums/2017/5-Year/csv_pla.zip')\n",
    "    z = zipfile.ZipFile(io.BytesIO(r.content))\n",
    "    z.extract('psam_p22.csv')\n",
    "\n",
    "keepcols = ['PUMA','RACWHT','PINCP','AGEP','SCHL','MIGPUMA','MIGSP']\n",
    "pa = pd.read_csv(\"psam_p22.csv\", usecols=keepcols)\n",
    "\n",
    "#getting data\n",
    "pa.query('PUMA==2400', inplace=True)\n",
    "\n",
    "def migrecode(migpuma):\n",
    "    if pd.isnull(migpuma):\n",
    "        return 0\n",
    "    else:\n",
    "        return 1\n",
    "    \n",
    "def agerecode(age):\n",
    "    if age < 18:\n",
    "        return 0\n",
    "    else:\n",
    "        return 1\n",
    "\n",
    "def schlrecode(schl):\n",
    "    if schl < 18:\n",
    "        return 0\n",
    "    else:\n",
    "        return 1\n",
    "\n",
    "pa['MIGRATED']=pa.MIGPUMA.apply(migrecode)\n",
    "pa['ADULT']=pa.AGEP.apply(agerecode)\n",
    "pa['COLLEGE']=pa.SCHL.apply(schlrecode)\n"
   ]
  },
  {
   "cell_type": "markdown",
   "metadata": {},
   "source": [
    "## Logistic Regression as Post-Processing"
   ]
  },
  {
   "cell_type": "markdown",
   "metadata": {},
   "source": [
    "We read in data from Louisiana and keep data from PUMA 2400 containing New Orleans."
   ]
  },
  {
   "cell_type": "code",
   "execution_count": null,
   "metadata": {
    "collapsed": true
   },
   "outputs": [],
   "source": []
  },
  {
   "cell_type": "code",
   "execution_count": null,
   "metadata": {
    "collapsed": true
   },
   "outputs": [],
   "source": []
  },
  {
   "cell_type": "markdown",
   "metadata": {},
   "source": [
    "Below is a little bit of the microdata."
   ]
  },
  {
   "cell_type": "code",
   "execution_count": 2,
   "metadata": {},
   "outputs": [
    {
     "data": {
      "text/html": [
       "<div>\n",
       "<style>\n",
       "    .dataframe thead tr:only-child th {\n",
       "        text-align: right;\n",
       "    }\n",
       "\n",
       "    .dataframe thead th {\n",
       "        text-align: left;\n",
       "    }\n",
       "\n",
       "    .dataframe tbody tr th {\n",
       "        vertical-align: top;\n",
       "    }\n",
       "</style>\n",
       "<table border=\"1\" class=\"dataframe\">\n",
       "  <thead>\n",
       "    <tr style=\"text-align: right;\">\n",
       "      <th></th>\n",
       "      <th>PUMA</th>\n",
       "      <th>AGEP</th>\n",
       "      <th>SCHL</th>\n",
       "      <th>MIGPUMA</th>\n",
       "      <th>MIGSP</th>\n",
       "      <th>PINCP</th>\n",
       "      <th>RACWHT</th>\n",
       "      <th>MIGRATED</th>\n",
       "      <th>ADULT</th>\n",
       "      <th>COLLEGE</th>\n",
       "    </tr>\n",
       "  </thead>\n",
       "  <tbody>\n",
       "    <tr>\n",
       "      <th>207</th>\n",
       "      <td>2400</td>\n",
       "      <td>30</td>\n",
       "      <td>18.0</td>\n",
       "      <td>2390.0</td>\n",
       "      <td>22.0</td>\n",
       "      <td>35000.0</td>\n",
       "      <td>0</td>\n",
       "      <td>1</td>\n",
       "      <td>1</td>\n",
       "      <td>1</td>\n",
       "    </tr>\n",
       "    <tr>\n",
       "      <th>208</th>\n",
       "      <td>2400</td>\n",
       "      <td>7</td>\n",
       "      <td>4.0</td>\n",
       "      <td>NaN</td>\n",
       "      <td>NaN</td>\n",
       "      <td>NaN</td>\n",
       "      <td>0</td>\n",
       "      <td>0</td>\n",
       "      <td>0</td>\n",
       "      <td>0</td>\n",
       "    </tr>\n",
       "    <tr>\n",
       "      <th>275</th>\n",
       "      <td>2400</td>\n",
       "      <td>56</td>\n",
       "      <td>22.0</td>\n",
       "      <td>NaN</td>\n",
       "      <td>NaN</td>\n",
       "      <td>68000.0</td>\n",
       "      <td>0</td>\n",
       "      <td>0</td>\n",
       "      <td>1</td>\n",
       "      <td>1</td>\n",
       "    </tr>\n",
       "    <tr>\n",
       "      <th>276</th>\n",
       "      <td>2400</td>\n",
       "      <td>57</td>\n",
       "      <td>20.0</td>\n",
       "      <td>NaN</td>\n",
       "      <td>NaN</td>\n",
       "      <td>58700.0</td>\n",
       "      <td>0</td>\n",
       "      <td>0</td>\n",
       "      <td>1</td>\n",
       "      <td>1</td>\n",
       "    </tr>\n",
       "    <tr>\n",
       "      <th>382</th>\n",
       "      <td>2400</td>\n",
       "      <td>26</td>\n",
       "      <td>12.0</td>\n",
       "      <td>NaN</td>\n",
       "      <td>NaN</td>\n",
       "      <td>18000.0</td>\n",
       "      <td>1</td>\n",
       "      <td>0</td>\n",
       "      <td>1</td>\n",
       "      <td>0</td>\n",
       "    </tr>\n",
       "  </tbody>\n",
       "</table>\n",
       "</div>"
      ],
      "text/plain": [
       "     PUMA  AGEP  SCHL  MIGPUMA  MIGSP    PINCP  RACWHT  MIGRATED  ADULT  \\\n",
       "207  2400    30  18.0   2390.0   22.0  35000.0       0         1      1   \n",
       "208  2400     7   4.0      NaN    NaN      NaN       0         0      0   \n",
       "275  2400    56  22.0      NaN    NaN  68000.0       0         0      1   \n",
       "276  2400    57  20.0      NaN    NaN  58700.0       0         0      1   \n",
       "382  2400    26  12.0      NaN    NaN  18000.0       1         0      1   \n",
       "\n",
       "     COLLEGE  \n",
       "207        1  \n",
       "208        0  \n",
       "275        1  \n",
       "276        1  \n",
       "382        0  "
      ]
     },
     "execution_count": 2,
     "metadata": {},
     "output_type": "execute_result"
    }
   ],
   "source": [
    "pa.head()\n",
    "#print(pa.ADULT.value_counts())"
   ]
  },
  {
   "cell_type": "markdown",
   "metadata": {},
   "source": [
    "We use three binary predictor variables: whether the person is white (already in the data), whether the person is an adult and whether the person has any education beyond high school (The last two constructed above). We want to predict whether the person migrated from another PUMA.\n",
    "\n",
    "We begin by calculating the non-noisy regression."
   ]
  },
  {
   "cell_type": "code",
   "execution_count": 3,
   "metadata": {},
   "outputs": [
    {
     "name": "stdout",
     "output_type": "stream",
     "text": [
      "Optimization terminated successfully.\n",
      "         Current function value: 0.416755\n",
      "         Iterations 6\n",
      "                         Results: Logit\n",
      "================================================================\n",
      "Model:              Logit            Pseudo R-squared: -0.194   \n",
      "Dependent Variable: MIGRATED         AIC:              7180.8469\n",
      "Date:               2019-09-03 11:47 BIC:              7202.0282\n",
      "No. Observations:   8608             Log-Likelihood:   -3587.4  \n",
      "Df Model:           2                LL-Null:          -3003.9  \n",
      "Df Residuals:       8605             LLR p-value:      1.0000   \n",
      "Converged:          1.0000           Scale:            1.0000   \n",
      "No. Iterations:     6.0000                                      \n",
      "-----------------------------------------------------------------\n",
      "             Coef.   Std.Err.     z      P>|z|    [0.025   0.975]\n",
      "-----------------------------------------------------------------\n",
      "RACWHT      -0.3559    0.0653   -5.4504  0.0000  -0.4839  -0.2279\n",
      "ADULT       -1.8148    0.0549  -33.0535  0.0000  -1.9224  -1.7072\n",
      "COLLEGE     -0.2615    0.0678   -3.8539  0.0001  -0.3945  -0.1285\n",
      "================================================================\n",
      "\n"
     ]
    }
   ],
   "source": [
    "#feature selection \n",
    "#TODO: change Y value to rent or mortage\n",
    "X = pa[['RACWHT','ADULT','COLLEGE']]\n",
    "y = pa.MIGRATED\n",
    "\n",
    "logit_model=sm.Logit(y,X)\n",
    "result=logit_model.fit()\n",
    "print(result.summary2())"
   ]
  },
  {
   "cell_type": "markdown",
   "metadata": {},
   "source": [
    "## Laplace Noise"
   ]
  },
  {
   "cell_type": "markdown",
   "metadata": {},
   "source": [
    "Define a function to implement the Laplace mechanism."
   ]
  },
  {
   "cell_type": "code",
   "execution_count": 4,
   "metadata": {
    "collapsed": true
   },
   "outputs": [],
   "source": [
    "def laplace_mech(mu: Union[float, np.ndarray], epsilon: int, sensitivity: float = 1.0):\n",
    "    \"\"\"\n",
    "    Implementation of the Laplace Mechanism\n",
    "\n",
    "    Args:\n",
    "      mu (float or numpy array): the true answer\n",
    "      epsilon (int): the privacy budget\n",
    "      sensitivity (float): the global sensitivity of the query\n",
    "    \"\"\"\n",
    "    eps = epsilon/float(sensitivity)\n",
    "    scale = 1/eps\n",
    "    np_shape = np.shape(mu)\n",
    "    shape = None if np_shape == () else np_shape\n",
    "    z = np.random.laplace(0.0, scale=scale, size=shape)\n",
    "    return mu + z"
   ]
  },
  {
   "cell_type": "markdown",
   "metadata": {},
   "source": [
    "Instead of running the regression and adding noise to the coefficients, we do the four-way cross-tabulation of the predictor variables and the response variable. We then add noise to the cross-tab using the Laplace mechanism and an epsilon of 0.25. This is considered the noisy data and is used for the ROC curve. Below, we show the original four-way contingency table and a noisy four-way contingency table."
   ]
  },
  {
   "cell_type": "code",
   "execution_count": 5,
   "metadata": {},
   "outputs": [
    {
     "name": "stdout",
     "output_type": "stream",
     "text": [
      "RACWHT  ADULT  COLLEGE  MIGRATED\n",
      "0       0      0        0            984\n",
      "                        1            125\n",
      "               1        0            161\n",
      "                        1             23\n",
      "        1      0        0           1806\n",
      "                        1            193\n",
      "               1        0           2296\n",
      "                        1            220\n",
      "1       0      0        0            358\n",
      "                        1             37\n",
      "               1        0             95\n",
      "                        1             18\n",
      "        1      0        0            348\n",
      "                        1             49\n",
      "               1        0           1603\n",
      "                        1            292\n",
      "dtype: int64\n",
      "RACWHT  ADULT  COLLEGE  MIGRATED\n",
      "0       0      0        0            985.59\n",
      "                        1            122.97\n",
      "               1        0            157.91\n",
      "                        1             19.60\n",
      "        1      0        0           1807.38\n",
      "                        1            191.52\n",
      "               1        0           2295.81\n",
      "                        1            215.40\n",
      "1       0      0        0            358.80\n",
      "                        1             29.28\n",
      "               1        0             90.80\n",
      "                        1             15.43\n",
      "        1      0        0            347.33\n",
      "                        1             49.54\n",
      "               1        0           1602.46\n",
      "                        1            292.14\n",
      "dtype: float64\n"
     ]
    }
   ],
   "source": [
    "tab=pd.crosstab(pa.MIGRATED, [pa.RACWHT, pa.ADULT, pa.COLLEGE])\n",
    "#tab=pd.crosstab(pa.MIGRATED, [pa.RACWHT, pa.ADULT, pa.COLLEGE]).unstack()\n",
    "noise = laplace_mech(np.zeros(tab.shape), 0.25, 1.0)\n",
    "noisy_tab = tab + noise\n",
    "print(tab.unstack())\n",
    "print(noisy_tab.unstack().round(2))"
   ]
  },
  {
   "cell_type": "code",
   "execution_count": 6,
   "metadata": {
    "collapsed": true
   },
   "outputs": [],
   "source": [
    "def avg_l1_laplace(epsilon, mu, sensitivity=1.0, n=1000):\n",
    "    \"\"\"Takes the average error of the laplace mechanism on an array over n samples.\n",
    "  　\n",
    "    Args:\n",
    "      epsilon (int): the privacy budget\n",
    "      mu (float or numpy array): the true answer\n",
    "      n (int): number of samples\n",
    "    \"\"\"\n",
    "    total = 0\n",
    "    for i in range(n):\n",
    "        noisy_arr = laplace_mech(mu, epsilon)\n",
    "        accuracy = 1 - (np.linalg.norm(noisy_arr-mu, 1)/(2*mu.sum()))\n",
    "        total += accuracy\n",
    "    return total/n\n"
   ]
  },
  {
   "cell_type": "markdown",
   "metadata": {},
   "source": [
    "Once you have added noise to the counts, the differential privacy is done. These counts (unrounded) are considered protected, and you can do anything you want with them (including release them as shown above) without using additional privacy loss budget. We will turn them back into microdata and do the desired regression, but everything from here on is post-processing. As such, the ROC curve is calculated on the unrounded noisy counts."
   ]
  },
  {
   "cell_type": "code",
   "execution_count": 7,
   "metadata": {},
   "outputs": [
    {
     "name": "stderr",
     "output_type": "stream",
     "text": [
      "C:\\Anaconda\\lib\\site-packages\\ipykernel_launcher.py:11: RuntimeWarning: divide by zero encountered in double_scalars\n",
      "  # This is added back by InteractiveShellApp.init_path()\n"
     ]
    },
    {
     "data": {
      "image/png": "[encoded data removed]",
      "text/plain": [
       "<matplotlib.figure.Figure at 0x257b2266e80>"
      ]
     },
     "metadata": {},
     "output_type": "display_data"
    }
   ],
   "source": [
    "orig_arr = tab.unstack().values\n",
    "accuracy_df = pd.DataFrame()\n",
    "eps_range = np.arange(0,1,.1)\n",
    "accuracy_df['Privacy Loss (ϵ)'] = eps_range\n",
    "#print(avg_l1_laplace(1, orig_arr))\n",
    "\n",
    "accuracy_df['Accuracy'] = [avg_l1_laplace(x, orig_arr) for x in eps_range]\n",
    "accuracy_df.plot.scatter('Privacy Loss (ϵ)', 'Accuracy',ylim=[.99,1])\n",
    "plt.title('Trade-Off Between Privacy Loss and Accuracy')\n",
    "plt.style.use('seaborn-paper')\n",
    "#accuracy_df.set_ylim([.99,1])\n",
    "plt.savefig('out/fig.png',facecolor='w', edgecolor='w',\n",
    "        orientation='portrait', ransparent=False, bbox_inches=None, pad_inches=0.1)\n",
    "plt.show()"
   ]
  },
  {
   "cell_type": "markdown",
   "metadata": {},
   "source": [
    "We now round each cell in the noisy table to the nearest nonnegative integer. From this, we can reconstruct a noisy microdata set. This step and anything subsequently done to the data are post-processing.\n",
    "\n",
    "Since we have the noisy counts of the cross tabulation of RACWHT, ADULT, COLLEGE and MIGRATED, we can create a scaled-down microdata set where each record has only these four variables. For example, if the noisy count of how many people have 0 for all variables is 982.07, we round to 982 and then we create 982 microdata records with this combination of variables. We then repeat for all other combinations of different possible values for the four variables."
   ]
  },
  {
   "cell_type": "code",
   "execution_count": 23,
   "metadata": {
    "collapsed": true
   },
   "outputs": [],
   "source": [
    "def post_process(tab_values: np.array):\n",
    "    tab_values[tab_values < 0] = 0\n",
    "    return tab_values.round().astype('int')\n",
    "\n",
    "def reconstruct(noisy_tab):\n",
    "    noisy_unstack = noisy_tab.unstack()\n",
    "    reps = post_process(noisy_unstack.values)\n",
    "    colnames = noisy_unstack.index.names\n",
    "    combinations = noisy_unstack.index.get_values()\n",
    "    combinations = np.matrix([list(tup) for tup in combinations])\n",
    "    noisy_microdata = pd.DataFrame(np.repeat(combinations, reps, axis=0),\n",
    "                                  columns=colnames)\n",
    "    return noisy_microdata\n",
    "\n",
    "noisy_microdata = reconstruct(noisy_tab)\n",
    "#print(noisy_microdata.ADULT.value_counts())\n",
    "#print(post_process(noisy_tab))"
   ]
  },
  {
   "cell_type": "markdown",
   "metadata": {},
   "source": [
    "We now run the regression on the noisy microdata."
   ]
  },
  {
   "cell_type": "code",
   "execution_count": 24,
   "metadata": {},
   "outputs": [
    {
     "name": "stdout",
     "output_type": "stream",
     "text": [
      "Optimization terminated successfully.\n",
      "         Current function value: 0.414080\n",
      "         Iterations 6\n",
      "                         Results: Logit\n",
      "================================================================\n",
      "Model:              Logit            Pseudo R-squared: -0.199   \n",
      "Dependent Variable: MIGRATED         AIC:              7139.7703\n",
      "Date:               2019-08-28 12:10 BIC:              7160.9537\n",
      "No. Observations:   8614             Log-Likelihood:   -3566.9  \n",
      "Df Model:           2                LL-Null:          -2975.4  \n",
      "Df Residuals:       8611             LLR p-value:      1.0000   \n",
      "Converged:          1.0000           Scale:            1.0000   \n",
      "No. Iterations:     6.0000                                      \n",
      "-----------------------------------------------------------------\n",
      "             Coef.   Std.Err.     z      P>|z|    [0.025   0.975]\n",
      "-----------------------------------------------------------------\n",
      "RACWHT      -0.3575    0.0654   -5.4644  0.0000  -0.4858  -0.2293\n",
      "ADULT       -1.8139    0.0551  -32.9321  0.0000  -1.9219  -1.7060\n",
      "COLLEGE     -0.2898    0.0684   -4.2403  0.0000  -0.4238  -0.1559\n",
      "================================================================\n",
      "\n"
     ]
    }
   ],
   "source": [
    "X = noisy_microdata[['RACWHT','ADULT','COLLEGE']]\n",
    "y = noisy_microdata.MIGRATED\n",
    "\n",
    "logit_model=sm.Logit(y,X)\n",
    "result=logit_model.fit()\n",
    "print(result.summary2())"
   ]
  },
  {
   "cell_type": "markdown",
   "metadata": {
    "collapsed": true
   },
   "source": [
    "This output is close to the original output."
   ]
  },
  {
   "cell_type": "code",
   "execution_count": null,
   "metadata": {
    "collapsed": true
   },
   "outputs": [],
   "source": []
  }
 ],
 "metadata": {
  "kernelspec": {
   "display_name": "Python 3",
   "language": "python",
   "name": "python3"
  },
  "language_info": {
   "codemirror_mode": {
    "name": "ipython",
    "version": 3
   },
   "file_extension": ".py",
   "mimetype": "text/x-python",
   "name": "python",
   "nbconvert_exporter": "python",
   "pygments_lexer": "ipython3",
   "version": "3.6.3"
  }
 },
 "nbformat": 4,
 "nbformat_minor": 2
}
