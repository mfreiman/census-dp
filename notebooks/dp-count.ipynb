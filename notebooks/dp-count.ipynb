{
 "cells": [
  {
   "cell_type": "markdown",
   "metadata": {
    "collapsed": true
   },
   "source": [
    "### Count queries\n",
    "The most basic statistical tool, a count query, returns an estimate of the number of individual records in the data satisfying a specific condition. Differentially private answers to count queries\n",
    "can be obtained through the addition of random noise.\n",
    "\n",
    "In this example, we will make a cross-tab of education level by migration status for New Orleans City (Northeast), which is Louisiana PUMA 2400.\n",
    "\n",
    "In this example and all examples that follow it, we will treat the data as if it were a census and thus weights can be ignored (i.e., everyone has a weight of 1)."
   ]
  },
  {
   "cell_type": "code",
   "execution_count": 1,
   "metadata": {
    "collapsed": true
   },
   "outputs": [],
   "source": [
    "import matplotlib.pyplot as plt\n",
    "import pandas as pd\n",
    "import numpy as np\n",
    "import requests, zipfile, io\n",
    "\n",
    "#r = requests.get('https://www2.census.gov/programs-surveys/acs/data/pums/2017/5-Year/csv_ppa.zip')\n",
    "#z = zipfile.ZipFile(io.BytesIO(r.content))\n",
    "#z.extract('psam_p22.csv')\n",
    "#pa = pd.read_csv(\"psam_p22.csv\")\n",
    "\n",
    "if 'z' not in locals():\n",
    "    r = requests.get('https://www2.census.gov/programs-surveys/acs/data/pums/2017/5-Year/csv_pla.zip')\n",
    "    z = zipfile.ZipFile(io.BytesIO(r.content))\n",
    "    z.extract('psam_p22.csv')\n",
    "\n",
    "keepcols = ['PUMA','RACWHT','PINCP','AGEP','SCHL','MIGPUMA','MIGSP']\n",
    "pa = pd.read_csv(\"psam_p22.csv\", usecols=keepcols)\n",
    "\n",
    "def migrecode(migpuma):\n",
    "    if pd.isnull(migpuma):\n",
    "        return 0\n",
    "    else:\n",
    "        return 1\n",
    "\n",
    "def schlrecode_det(schl):\n",
    "    if schl < 16:\n",
    "        return 0\n",
    "    elif schl < 18:\n",
    "        return 1\n",
    "    elif schl < 21:\n",
    "        return 2\n",
    "    else:\n",
    "        return 3\n",
    "    \n",
    "def laplace_mech(mu, epsilon, sensitivity=1.0):\n",
    "    \"\"\"Implementation of the Laplace Mechanism that adds Laplace-distributed noise to a function.\n",
    "  　\n",
    "    Args:\n",
    "      mu (float or numpy array): the true answer\n",
    "      epsilon(int): the privacy budget\n",
    "      sensitivity (float): the global sensitivity of the query\n",
    "    \"\"\"\n",
    "    eps = epsilon/float(sensitivity)\n",
    "    scale = 1/eps\n",
    "    np_shape = np.shape(mu)\n",
    "    shape = None if np_shape == () else np_shape\n",
    "    z = np.random.laplace(0.0, scale=scale, size=shape)\n",
    "    return mu + z\n",
    "\n",
    "def avg_l1_laplace(epsilon, mu, n=1000):\n",
    "    \"\"\"Takes the average error of the laplace mechanism on an array over n samples.\n",
    "  　\n",
    "    Args:\n",
    "      epsilon (int): the privacy budget\n",
    "      mu (float or numpy array): the true answer\n",
    "      n (int): number of samples\n",
    "    \"\"\"\n",
    "    total = 0\n",
    "    for i in range(n):\n",
    "        noisy_arr = laplace_mech(mu, epsilon, sensitivity=1.0)\n",
    "        accuracy = 1 - (np.linalg.norm(noisy_arr-mu, 1)/(2*noisy_arr.shape[1]))\n",
    "        total += accuracy\n",
    "    return total/n"
   ]
  },
  {
   "cell_type": "markdown",
   "metadata": {},
   "source": [
    "This notebook explores one disclosure avoidance technique that injects Laplace-distributed noise to tabulated the Public Use Microdata Sample (PUMS) data. First, we download the PUMS data and read it into a dataframe. We take a look at a small piece of the microdata."
   ]
  },
  {
   "cell_type": "code",
   "execution_count": 2,
   "metadata": {},
   "outputs": [
    {
     "data": {
      "text/html": [
       "<div>\n",
       "<style>\n",
       "    .dataframe thead tr:only-child th {\n",
       "        text-align: right;\n",
       "    }\n",
       "\n",
       "    .dataframe thead th {\n",
       "        text-align: left;\n",
       "    }\n",
       "\n",
       "    .dataframe tbody tr th {\n",
       "        vertical-align: top;\n",
       "    }\n",
       "</style>\n",
       "<table border=\"1\" class=\"dataframe\">\n",
       "  <thead>\n",
       "    <tr style=\"text-align: right;\">\n",
       "      <th></th>\n",
       "      <th>PUMA</th>\n",
       "      <th>AGEP</th>\n",
       "      <th>SCHL</th>\n",
       "      <th>MIGPUMA</th>\n",
       "      <th>MIGSP</th>\n",
       "      <th>PINCP</th>\n",
       "      <th>RACWHT</th>\n",
       "    </tr>\n",
       "  </thead>\n",
       "  <tbody>\n",
       "    <tr>\n",
       "      <th>0</th>\n",
       "      <td>900</td>\n",
       "      <td>23</td>\n",
       "      <td>19.0</td>\n",
       "      <td>NaN</td>\n",
       "      <td>NaN</td>\n",
       "      <td>20000.0</td>\n",
       "      <td>0</td>\n",
       "    </tr>\n",
       "    <tr>\n",
       "      <th>1</th>\n",
       "      <td>900</td>\n",
       "      <td>0</td>\n",
       "      <td>NaN</td>\n",
       "      <td>NaN</td>\n",
       "      <td>NaN</td>\n",
       "      <td>NaN</td>\n",
       "      <td>0</td>\n",
       "    </tr>\n",
       "    <tr>\n",
       "      <th>2</th>\n",
       "      <td>900</td>\n",
       "      <td>7</td>\n",
       "      <td>4.0</td>\n",
       "      <td>NaN</td>\n",
       "      <td>NaN</td>\n",
       "      <td>NaN</td>\n",
       "      <td>0</td>\n",
       "    </tr>\n",
       "    <tr>\n",
       "      <th>3</th>\n",
       "      <td>900</td>\n",
       "      <td>26</td>\n",
       "      <td>19.0</td>\n",
       "      <td>NaN</td>\n",
       "      <td>NaN</td>\n",
       "      <td>28600.0</td>\n",
       "      <td>0</td>\n",
       "    </tr>\n",
       "    <tr>\n",
       "      <th>4</th>\n",
       "      <td>2201</td>\n",
       "      <td>41</td>\n",
       "      <td>20.0</td>\n",
       "      <td>NaN</td>\n",
       "      <td>NaN</td>\n",
       "      <td>0.0</td>\n",
       "      <td>1</td>\n",
       "    </tr>\n",
       "  </tbody>\n",
       "</table>\n",
       "</div>"
      ],
      "text/plain": [
       "   PUMA  AGEP  SCHL  MIGPUMA  MIGSP    PINCP  RACWHT\n",
       "0   900    23  19.0      NaN    NaN  20000.0       0\n",
       "1   900     0   NaN      NaN    NaN      NaN       0\n",
       "2   900     7   4.0      NaN    NaN      NaN       0\n",
       "3   900    26  19.0      NaN    NaN  28600.0       0\n",
       "4  2201    41  20.0      NaN    NaN      0.0       1"
      ]
     },
     "execution_count": 2,
     "metadata": {},
     "output_type": "execute_result"
    }
   ],
   "source": [
    "pa.head()"
   ]
  },
  {
   "cell_type": "markdown",
   "metadata": {},
   "source": [
    "Next, let's filter the data to contain only relevant variables and geographic area.  \n",
    "In our example we will focus on migration and age in Louisiana PUMA 2400, which represents New Orleans City (Northeast).   \n",
    "For variable definitions see:\n",
    "https://www2.census.gov/programs-surveys/acs/tech_docs/pums/data_dict/PUMS_Data_Dictionary_2017.pdf"
   ]
  },
  {
   "cell_type": "code",
   "execution_count": 3,
   "metadata": {},
   "outputs": [
    {
     "data": {
      "text/html": [
       "<div>\n",
       "<style>\n",
       "    .dataframe thead tr:only-child th {\n",
       "        text-align: right;\n",
       "    }\n",
       "\n",
       "    .dataframe thead th {\n",
       "        text-align: left;\n",
       "    }\n",
       "\n",
       "    .dataframe tbody tr th {\n",
       "        vertical-align: top;\n",
       "    }\n",
       "</style>\n",
       "<table border=\"1\" class=\"dataframe\">\n",
       "  <thead>\n",
       "    <tr style=\"text-align: right;\">\n",
       "      <th></th>\n",
       "      <th>PUMA</th>\n",
       "      <th>SCHL</th>\n",
       "      <th>AGEP</th>\n",
       "      <th>MIGPUMA</th>\n",
       "      <th>PINCP</th>\n",
       "    </tr>\n",
       "  </thead>\n",
       "  <tbody>\n",
       "    <tr>\n",
       "      <th>207</th>\n",
       "      <td>2400</td>\n",
       "      <td>18.0</td>\n",
       "      <td>30</td>\n",
       "      <td>2390.0</td>\n",
       "      <td>35000.0</td>\n",
       "    </tr>\n",
       "    <tr>\n",
       "      <th>208</th>\n",
       "      <td>2400</td>\n",
       "      <td>4.0</td>\n",
       "      <td>7</td>\n",
       "      <td>NaN</td>\n",
       "      <td>NaN</td>\n",
       "    </tr>\n",
       "    <tr>\n",
       "      <th>275</th>\n",
       "      <td>2400</td>\n",
       "      <td>22.0</td>\n",
       "      <td>56</td>\n",
       "      <td>NaN</td>\n",
       "      <td>68000.0</td>\n",
       "    </tr>\n",
       "    <tr>\n",
       "      <th>276</th>\n",
       "      <td>2400</td>\n",
       "      <td>20.0</td>\n",
       "      <td>57</td>\n",
       "      <td>NaN</td>\n",
       "      <td>58700.0</td>\n",
       "    </tr>\n",
       "    <tr>\n",
       "      <th>382</th>\n",
       "      <td>2400</td>\n",
       "      <td>12.0</td>\n",
       "      <td>26</td>\n",
       "      <td>NaN</td>\n",
       "      <td>18000.0</td>\n",
       "    </tr>\n",
       "  </tbody>\n",
       "</table>\n",
       "</div>"
      ],
      "text/plain": [
       "     PUMA  SCHL  AGEP  MIGPUMA    PINCP\n",
       "207  2400  18.0    30   2390.0  35000.0\n",
       "208  2400   4.0     7      NaN      NaN\n",
       "275  2400  22.0    56      NaN  68000.0\n",
       "276  2400  20.0    57      NaN  58700.0\n",
       "382  2400  12.0    26      NaN  18000.0"
      ]
     },
     "execution_count": 3,
     "metadata": {},
     "output_type": "execute_result"
    }
   ],
   "source": [
    "#Filtering geographic location, race, educational attainment, total income in past 12 months, age and PUMA migrated from\n",
    "new_pa = pa.query(\"PUMA==2400\").filter(items=['PUMA','SCHL','AGEP','MIGPUMA','PINCP'])\n",
    "new_pa.head()"
   ]
  },
  {
   "cell_type": "markdown",
   "metadata": {},
   "source": [
    "We make a recode for whether you migrated from a different PUMA and a recode for level of schooling (less than HS grad, HS grad, some college, bachelors degree). Our output will be a cross tabulation of the recoded variables. First, we show the non-noisy cross tab."
   ]
  },
  {
   "cell_type": "code",
   "execution_count": 4,
   "metadata": {},
   "outputs": [
    {
     "data": {
      "text/html": [
       "<div>\n",
       "<style>\n",
       "    .dataframe thead tr:only-child th {\n",
       "        text-align: right;\n",
       "    }\n",
       "\n",
       "    .dataframe thead th {\n",
       "        text-align: left;\n",
       "    }\n",
       "\n",
       "    .dataframe tbody tr th {\n",
       "        vertical-align: top;\n",
       "    }\n",
       "</style>\n",
       "<table border=\"1\" class=\"dataframe\">\n",
       "  <thead>\n",
       "    <tr style=\"text-align: right;\">\n",
       "      <th></th>\n",
       "      <th>Did not migrate</th>\n",
       "      <th>Migrated</th>\n",
       "    </tr>\n",
       "    <tr>\n",
       "      <th>SCHLCAT</th>\n",
       "      <th></th>\n",
       "      <th></th>\n",
       "    </tr>\n",
       "  </thead>\n",
       "  <tbody>\n",
       "    <tr>\n",
       "      <th>0</th>\n",
       "      <td>2126.0</td>\n",
       "      <td>257.0</td>\n",
       "    </tr>\n",
       "    <tr>\n",
       "      <th>1</th>\n",
       "      <td>1370.0</td>\n",
       "      <td>147.0</td>\n",
       "    </tr>\n",
       "    <tr>\n",
       "      <th>2</th>\n",
       "      <td>1907.0</td>\n",
       "      <td>202.0</td>\n",
       "    </tr>\n",
       "    <tr>\n",
       "      <th>3</th>\n",
       "      <td>2248.0</td>\n",
       "      <td>351.0</td>\n",
       "    </tr>\n",
       "  </tbody>\n",
       "</table>\n",
       "</div>"
      ],
      "text/plain": [
       "         Did not migrate  Migrated\n",
       "SCHLCAT                           \n",
       "0                 2126.0     257.0\n",
       "1                 1370.0     147.0\n",
       "2                 1907.0     202.0\n",
       "3                 2248.0     351.0"
      ]
     },
     "execution_count": 4,
     "metadata": {},
     "output_type": "execute_result"
    }
   ],
   "source": [
    "new_pa['MIGRATED']=new_pa.MIGPUMA.apply(migrecode)\n",
    "new_pa['SCHLCAT']=new_pa.SCHL.apply(schlrecode_det)\n",
    "\n",
    "#create a table showing total count of educational attainment of adults in PUMA 2400 by race. \n",
    "pivot_pa = pd.pivot_table(new_pa,\n",
    "                              index='SCHLCAT',\n",
    "                              columns='MIGRATED',\n",
    "                              values='PINCP',\n",
    "                              aggfunc=np.size,\n",
    "                              margins=False)\n",
    "\n",
    "pivot_pa.columns = ['Did not migrate','Migrated']\n",
    "pivot_pa.rows = ['Less than HS grad','HS grad','Some college','Bachelors']\n",
    "\n",
    "#TODO: rename columns for clarity.\n",
    "pivot_pa.head(10)\n"
   ]
  },
  {
   "cell_type": "markdown",
   "metadata": {},
   "source": [
    "**The Laplace Mechanism**\n",
    "The Laplace mechanism adds Laplace-distributed noise to a function.\n",
    "\n",
    "Notice that the `laplace_mech()` consumes a parameter `epsilon`. We refer to this quantity as the privacy loss of the mechanism and is part of the most central definition in the field of differential privacy: ε-differential privacy. By tuning epsilon, we control the noisiness of our noisy counting. Choosing a smaller epsilon produces noisier results and better privacy guarantees. \n",
    "\n",
    "Generally, the `sensitivity` of a function is the largest possible difference that one row can have on the result of that function, for any dataset. The larger the sensitivity, the noisier the answer will be. Calculating the sensitivity for an arbitrary function can be difficult, but we know that any unweighted counting query has a sensitivity of 1, because adding or removing a single row from any dataset will change the count by at most 1.\n",
    "\n",
    "If S is the sensitivity of a function f, a measure of how revealing the function might be, then adding Laplace noise with scale S/ε preserves ε-differential privacy."
   ]
  },
  {
   "cell_type": "code",
   "execution_count": null,
   "metadata": {
    "collapsed": true
   },
   "outputs": [],
   "source": []
  },
  {
   "cell_type": "markdown",
   "metadata": {},
   "source": [
    "### Quality Metrics"
   ]
  },
  {
   "cell_type": "markdown",
   "metadata": {},
   "source": [
    "While the trade-off between statistical accuracy and privacy loss is at the heart of differential privacy, there are many metrics for assessing the quality of a published dataset. One approach is to calculate the L1 error between the true data (i.e. without disclosure limitation) and the perturbed/noisy data.\n",
    "\n",
    "**The L1 Norm:** In this simple scenario involving the Laplace Mechanism, the L1 error is a natural metric. The L1 norm is basically minimizing the sum of the absolute differences between the target value and the estimated values. This is a somewhat crude measure: a disclosure limited product with a high L1 compared to the same product without disclosure limitation may still be very accurate for its intended use. "
   ]
  },
  {
   "cell_type": "code",
   "execution_count": null,
   "metadata": {
    "collapsed": true
   },
   "outputs": [],
   "source": []
  },
  {
   "cell_type": "markdown",
   "metadata": {},
   "source": [
    "### Trade-off Between Privacy Loss and Accuracy\n",
    "\n",
    "When submitting to the DRB, the practitioner prepares a set of graphs that show the trade-off between privacy loss (ε) and accuracy. The DRB and Chief Scientist then choose an ϵ that allows for sufficient accuracy. The most common epsilon values are between 1 and 9."
   ]
  },
  {
   "cell_type": "code",
   "execution_count": 18,
   "metadata": {},
   "outputs": [
    {
     "data": {
      "image/png": "[encoded data removed]",
      "text/plain": [
       "<matplotlib.figure.Figure at 0x21f4de6c470>"
      ]
     },
     "metadata": {},
     "output_type": "display_data"
    }
   ],
   "source": [
    "orig_arr = pd.DataFrame(pivot_pa.fillna(0))\n",
    "accuracy_df = pd.DataFrame()\n",
    "eps_range = np.arange(1,10.0,1)\n",
    "accuracy_df['Privacy Loss (ϵ)'] = eps_range\n",
    "accuracy_df['Accuracy'] = [avg_l1_laplace(x, orig_arr) for x in eps_range]\n",
    "accuracy_df.plot.scatter('Privacy Loss (ϵ)', 'Accuracy')\n",
    "plt.title('Trade-Off Between Privacy Loss and Accuracy')\n",
    "plt.style.use('seaborn-paper')\n",
    "plt.savefig('fig.png',facecolor='w', edgecolor='w',\n",
    "        orientation='portrait', Transparent=False, bbox_inches=None, pad_inches=0.1)\n",
    "plt.show()"
   ]
  },
  {
   "cell_type": "markdown",
   "metadata": {},
   "source": [
    "### Postprocessing\n",
    "\n",
    "We begin by adding noise to the counts, using an epsilon of .25."
   ]
  },
  {
   "cell_type": "code",
   "execution_count": 19,
   "metadata": {},
   "outputs": [
    {
     "data": {
      "text/html": [
       "<div>\n",
       "<style>\n",
       "    .dataframe thead tr:only-child th {\n",
       "        text-align: right;\n",
       "    }\n",
       "\n",
       "    .dataframe thead th {\n",
       "        text-align: left;\n",
       "    }\n",
       "\n",
       "    .dataframe tbody tr th {\n",
       "        vertical-align: top;\n",
       "    }\n",
       "</style>\n",
       "<table border=\"1\" class=\"dataframe\">\n",
       "  <thead>\n",
       "    <tr style=\"text-align: right;\">\n",
       "      <th></th>\n",
       "      <th>Did not migrate</th>\n",
       "      <th>Migrated</th>\n",
       "    </tr>\n",
       "    <tr>\n",
       "      <th>SCHLCAT</th>\n",
       "      <th></th>\n",
       "      <th></th>\n",
       "    </tr>\n",
       "  </thead>\n",
       "  <tbody>\n",
       "    <tr>\n",
       "      <th>0</th>\n",
       "      <td>2124.487166</td>\n",
       "      <td>261.119721</td>\n",
       "    </tr>\n",
       "    <tr>\n",
       "      <th>1</th>\n",
       "      <td>1361.852660</td>\n",
       "      <td>145.249320</td>\n",
       "    </tr>\n",
       "    <tr>\n",
       "      <th>2</th>\n",
       "      <td>1915.531593</td>\n",
       "      <td>202.533173</td>\n",
       "    </tr>\n",
       "    <tr>\n",
       "      <th>3</th>\n",
       "      <td>2246.951607</td>\n",
       "      <td>351.202359</td>\n",
       "    </tr>\n",
       "  </tbody>\n",
       "</table>\n",
       "</div>"
      ],
      "text/plain": [
       "         Did not migrate    Migrated\n",
       "SCHLCAT                             \n",
       "0            2124.487166  261.119721\n",
       "1            1361.852660  145.249320\n",
       "2            1915.531593  202.533173\n",
       "3            2246.951607  351.202359"
      ]
     },
     "execution_count": 19,
     "metadata": {},
     "output_type": "execute_result"
    }
   ],
   "source": [
    "noisy_counts = laplace_mech(orig_arr, .25)\n",
    "noisy_counts"
   ]
  },
  {
   "cell_type": "markdown",
   "metadata": {},
   "source": [
    "Everything from here on is post-processing, which does not affect the privacy guarantee. We round these to the nearest nonzero integer. "
   ]
  },
  {
   "cell_type": "code",
   "execution_count": 20,
   "metadata": {
    "collapsed": true
   },
   "outputs": [],
   "source": [
    "def rounder(x):\n",
    "    if x < 0:\n",
    "        return 0 \n",
    "    else:\n",
    "        return round(x)"
   ]
  },
  {
   "cell_type": "code",
   "execution_count": 21,
   "metadata": {
    "collapsed": true
   },
   "outputs": [],
   "source": [
    "#Apply rounder to every cell in new noisy output\n",
    "rounded_counts = noisy_counts.applymap(rounder)"
   ]
  },
  {
   "cell_type": "code",
   "execution_count": 22,
   "metadata": {},
   "outputs": [
    {
     "name": "stdout",
     "output_type": "stream",
     "text": [
      "         Did not migrate  Migrated\n",
      "SCHLCAT                           \n",
      "0                 2126.0     257.0\n",
      "1                 1370.0     147.0\n",
      "2                 1907.0     202.0\n",
      "3                 2248.0     351.0\n",
      "         Did not migrate    Migrated\n",
      "SCHLCAT                             \n",
      "0            2124.487166  261.119721\n",
      "1            1361.852660  145.249320\n",
      "2            1915.531593  202.533173\n",
      "3            2246.951607  351.202359\n",
      "         Did not migrate  Migrated\n",
      "SCHLCAT                           \n",
      "0                   2124       261\n",
      "1                   1362       145\n",
      "2                   1916       203\n",
      "3                   2247       351\n"
     ]
    }
   ],
   "source": [
    "#Show noisy counts and pre-noised counts\n",
    "print(pivot_pa)\n",
    "print(noisy_counts)\n",
    "print(rounded_counts)\n"
   ]
  },
  {
   "cell_type": "code",
   "execution_count": null,
   "metadata": {
    "collapsed": true
   },
   "outputs": [],
   "source": []
  }
 ],
 "metadata": {
  "kernelspec": {
   "display_name": "Python 3",
   "language": "python",
   "name": "python3"
  },
  "language_info": {
   "codemirror_mode": {
    "name": "ipython",
    "version": 3
   },
   "file_extension": ".py",
   "mimetype": "text/x-python",
   "name": "python",
   "nbconvert_exporter": "python",
   "pygments_lexer": "ipython3",
   "version": "3.6.3"
  }
 },
 "nbformat": 4,
 "nbformat_minor": 2
}
