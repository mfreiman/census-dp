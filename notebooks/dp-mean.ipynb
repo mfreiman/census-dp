{
 "cells": [
  {
   "cell_type": "markdown",
   "metadata": {},
   "source": [
    "### Solving for a private mean age of a population"
   ]
  },
  {
   "cell_type": "code",
   "execution_count": 1,
   "metadata": {
    "collapsed": true
   },
   "outputs": [],
   "source": [
    "def laplace_mech(mu, epsilon, sensitivity=1.0):\n",
    "    \"\"\"Implementation of the Laplace Mechanism that adds Laplace-distributed noise to a function.\n",
    "  　\n",
    "    Args:\n",
    "      mu (float or numpy array): the true answer\n",
    "      epsilon(int): the privacy budget\n",
    "      sensitivity (float): the global sensitivity of the query\n",
    "    \"\"\"\n",
    "    eps = epsilon/float(sensitivity)\n",
    "    scale = 1/eps\n",
    "    np_shape = np.shape(mu)\n",
    "    shape = None if np_shape == () else np_shape\n",
    "    z = np.random.laplace(0.0, scale=scale, size=shape)\n",
    "    return mu + z\n",
    "\n",
    "def dp_mean(eps_n, eps_d, top, bot, top_sen=100.0, bot_sen=1.0):\n",
    "  noisy_top = laplace_mech(top, eps_n, top_sen)\n",
    "  noisy_bot = laplace_mech(bot, eps_d, bot_sen)\n",
    "  return noisy_top / noisy_bot\n",
    "\n",
    "def mse(true_answer, function_name, *params):\n",
    "  \"\"\"true_answer is either a scalar or numpy array\"\"\"\n",
    "  niterations = 100_000\n",
    "  return sum(np.sum((true_answer - function_name(*params))**2) for x in range(niterations)) / float(niterations)\n",
    "\n",
    "import matplotlib.pyplot as plt\n",
    "import pandas as pd\n",
    "import numpy as np\n",
    "\n",
    "def migrecode(migpuma):\n",
    "    if pd.isnull(migpuma):\n",
    "        return 0\n",
    "    else:\n",
    "        return 1\n",
    "\n",
    "def avg_l1_mean(true_mean, eps, n=1000):\n",
    "    total = 0\n",
    "    for i in range(n):\n",
    "        noisy_mean = dp_mean(eps/2, eps/2, total_age, total_population, age_sensitivity, population_sensitivity)\n",
    "        accuracy = 1 - (np.linalg.norm([noisy_mean-true_mean], 1)/(2*1))\n",
    "        total += accuracy\n",
    "    return total/n\n",
    "\n",
    "pa = pd.read_csv(\"psam_p22.csv\")\n",
    "\n",
    "pa['MIGRATED']=pa.MIGPUMA.apply(migrecode)\n",
    "\n",
    "pa = pa.query('PUMA==2400 and MIGRATED==1')\n",
    "\n",
    "total_age = pa.AGEP.sum()\n",
    "total_population = float(pa.AGEP.size)\n",
    "age_sensitivity = 99-0\n",
    "population_sensitivity = 1.0\n",
    "\n",
    "eps_n = 0.25\n",
    "eps_d = 0.25\n",
    "assert eps_n + eps_d <= 1.0000000001, \"eps_n + eps_d must be at most 1\"\n",
    "\n",
    "def avg_l1_median(true_median, eps, n=1000):\n",
    "    total = 0\n",
    "    for i in range(n):\n",
    "        noisy_median = laplace_mech(true_median, eps, age_sensitivity)\n",
    "        accuracy = 1 - (np.linalg.norm([noisy_median-true_median], 1)/(2*1))\n",
    "        total += accuracy\n",
    "    return total/n\n",
    "\n"
   ]
  },
  {
   "cell_type": "markdown",
   "metadata": {},
   "source": [
    "To solve for a private mean age of a population, we first:\n",
    "1. get an estimate of the total age (by adding Laplace noise)\n",
    "2. get an estimate of the total population (by adding Laplace noise)\n",
    "3. divide the two estimates\n",
    "\n",
    "We can do this with the `dp_mean()` function above, which also calls `laplace_mech()`."
   ]
  },
  {
   "cell_type": "markdown",
   "metadata": {},
   "source": [
    "We started above by loading the PUMS data."
   ]
  },
  {
   "cell_type": "code",
   "execution_count": null,
   "metadata": {
    "collapsed": true
   },
   "outputs": [],
   "source": []
  },
  {
   "cell_type": "markdown",
   "metadata": {},
   "source": [
    "Next, we queried the population we want to calculate the mean age of: people in PUMA 2400 who migrated from another PUMA."
   ]
  },
  {
   "cell_type": "code",
   "execution_count": null,
   "metadata": {
    "collapsed": true
   },
   "outputs": [],
   "source": []
  },
  {
   "cell_type": "markdown",
   "metadata": {},
   "source": [
    "Then we calculated the values we need for `dp_mean()`. These include the total age, the total population, the age sensitivity and the population sensitivity."
   ]
  },
  {
   "cell_type": "code",
   "execution_count": null,
   "metadata": {
    "collapsed": true
   },
   "outputs": [],
   "source": []
  },
  {
   "cell_type": "markdown",
   "metadata": {},
   "source": [
    "We calculate how much a single person can change the total age (numerator) or the total population (denominator). A single person can change the total population by 1, while a single person can change the total age by at most 99, since that is the topcode for age in this dataset.\n",
    "\n",
    "We also need to consider our privacy budget, `eps`. We can take `eps` and split it into two pieces: one for estimating the numerator (`eps_n`) and another for estimating the denominator (`eps_d`), so that `eps = eps_n + eps_d`.\n",
    "\n",
    "The choice of `eps_n` and `eps_d` clearly affects accuracy. A researcher can plug in different splits of `eps_n` and `eps_d` to see how low they can make the estimated mse. However, to be technically differentially private, this analysis of splits should not be done on the confidential data to which noise is being added. It would have to be done to dummy data.\n",
    "\n",
    "In this case, differential privacy doesn't change the mean age much, even with a small epsilon, because adding or removing one person from the dataset results in a small relative change in the numerator and denominator. If our sample were smaller, then the same amount of noise to the numerator and denominator would result in more potential change in the mean."
   ]
  },
  {
   "cell_type": "code",
   "execution_count": null,
   "metadata": {
    "collapsed": true
   },
   "outputs": [],
   "source": []
  },
  {
   "cell_type": "markdown",
   "metadata": {},
   "source": [
    "We can test these values and their accuracy with the `dp_mean()` and `mse()` functions, like below. In this example, we use an epsilon of .5 for the mean, with .25 allocated to privacy loss in the numerator and .25 allocated to privacy loss in the denominator. "
   ]
  },
  {
   "cell_type": "code",
   "execution_count": 2,
   "metadata": {},
   "outputs": [
    {
     "name": "stdout",
     "output_type": "stream",
     "text": [
      "The raw mean is  32.59\n",
      "A noisy mean is  33.47\n"
     ]
    }
   ],
   "source": [
    "raw_mean=pa.mean()\n",
    "print(\"The raw mean is \",raw_mean['AGEP'].round(2))\n",
    "#raw_sum=pa.sum()\n",
    "#print(raw_sum)\n",
    "\n",
    "noisy_mean = dp_mean(eps_n, eps_d, total_age, total_population, age_sensitivity, population_sensitivity)\n",
    "error = mse(total_age/total_population, dp_mean, eps_n, eps_d, total_age, total_population, age_sensitivity, population_sensitivity)\n",
    "print(\"A noisy mean is \", round(noisy_mean,2))\n",
    "#print(\"mse is \", error)"
   ]
  },
  {
   "cell_type": "markdown",
   "metadata": {},
   "source": [
    "We want to be able to calculate the `noisy_mean` for different values of epsilon and calculate the average accuracy of the `noisy_mean` for each of these epsilons, so that we can compare the accuracy-privacy trade off. The function below does this using L1 norm as the accuracy measure."
   ]
  },
  {
   "cell_type": "markdown",
   "metadata": {},
   "source": [
    "Let's use `avg_l1_mean()` to calculate the average accuracy of the noisy mean over a range of epsilon values and visualize the output. Below is an ROC curve similar to what the DRB would need to approve noise."
   ]
  },
  {
   "cell_type": "code",
   "execution_count": 3,
   "metadata": {
    "scrolled": true
   },
   "outputs": [
    {
     "data": {
      "image/png": "[encoded data removed]",
      "text/plain": [
       "<matplotlib.figure.Figure at 0x2d2ffc7d358>"
      ]
     },
     "metadata": {},
     "output_type": "display_data"
    }
   ],
   "source": [
    "accuracy_df = pd.DataFrame()\n",
    "eps_range = (np.arange(1.0,10.0,1))\n",
    "accuracy_df['epsilon'] = eps_range\n",
    "accuracy_df['accuracy'] = [avg_l1_mean(total_age/total_population, x) for x in eps_range]\n",
    "accuracy_df.plot.scatter('epsilon', 'accuracy')\n",
    "plt.show()"
   ]
  },
  {
   "cell_type": "markdown",
   "metadata": {},
   "source": [
    "### Solving for a private median age of a population\n",
    "\n",
    "The median is more of a pain to calculate because the sensitivity is high. The sensitivity of the median is half of the difference between the maximum and minimum possible values of the variable.\n"
   ]
  },
  {
   "cell_type": "code",
   "execution_count": 6,
   "metadata": {
    "collapsed": true
   },
   "outputs": [],
   "source": [
    "true_median = pa.AGEP.median()"
   ]
  },
  {
   "cell_type": "markdown",
   "metadata": {},
   "source": [
    "The sensitivity of a median is half of the possible range of the underlying variable. In this case, the age sensitivity is 99/2, since age is topcoded at 99 in this dataset. (Note: It does not matter whether there are 0-year-olds or 99-year-olds in the dataset. What's important is that such people are possible given the way the dataset is constructed.) Your dataset may topcode age at some different value or may not topcode age. Below we give a sample true median and noisy median, using an epsilon of 3."
   ]
  },
  {
   "cell_type": "code",
   "execution_count": 7,
   "metadata": {
    "collapsed": true
   },
   "outputs": [],
   "source": [
    "age_sensitivity = (99-0)/2"
   ]
  },
  {
   "cell_type": "code",
   "execution_count": 8,
   "metadata": {},
   "outputs": [
    {
     "name": "stdout",
     "output_type": "stream",
     "text": [
      "True Median:  30.0\n",
      "Noisy Median:  38.28\n"
     ]
    }
   ],
   "source": [
    "print(\"True Median: \",true_median)\n",
    "\n",
    "print(\"Noisy Median: \",round(laplace_mech(true_median,epsilon=3,sensitivity=99/2),2))"
   ]
  },
  {
   "cell_type": "markdown",
   "metadata": {},
   "source": [
    "We can now use `age_sensitivity` and `laplace_mech()` to calculate the `noisy_median`. We want to do this for different values of epsilon, and be able to calculate the average accuracy of the `noisy_median` for each of these epsilons, so that we can compare the accuracy-privacy trade off. The function below does this using L1 norm as the accuracy measure."
   ]
  },
  {
   "cell_type": "code",
   "execution_count": 9,
   "metadata": {},
   "outputs": [
    {
     "data": {
      "image/png": "[encoded data removed]",
      "text/plain": [
       "<matplotlib.figure.Figure at 0x2d2ffc7d748>"
      ]
     },
     "metadata": {},
     "output_type": "display_data"
    }
   ],
   "source": [
    "accuracy_df = pd.DataFrame()\n",
    "eps_range = (np.arange(1.0,10.0,1))\n",
    "accuracy_df['epsilon'] = eps_range\n",
    "accuracy_df['accuracy'] = [avg_l1_median(true_median, x) for x in eps_range]\n",
    "accuracy_df.plot.scatter('epsilon', 'accuracy')\n",
    "plt.show()"
   ]
  },
  {
   "cell_type": "markdown",
   "metadata": {
    "collapsed": true
   },
   "source": [
    "As you can see, a basic differential privacy approach will substantially degrade the data quality of medians. There is another way to do differentially private medians, but it is more complicated, and we do not yet have an implementation of it. This is an illustration of why the Census Bureau is not currently requiring differential privacy in every case."
   ]
  },
  {
   "cell_type": "code",
   "execution_count": null,
   "metadata": {
    "collapsed": true
   },
   "outputs": [],
   "source": []
  }
 ],
 "metadata": {
  "kernelspec": {
   "display_name": "Python 3",
   "language": "python",
   "name": "python3"
  },
  "language_info": {
   "codemirror_mode": {
    "name": "ipython",
    "version": 3
   },
   "file_extension": ".py",
   "mimetype": "text/x-python",
   "name": "python",
   "nbconvert_exporter": "python",
   "pygments_lexer": "ipython3",
   "version": "3.6.3"
  }
 },
 "nbformat": 4,
 "nbformat_minor": 2
}
